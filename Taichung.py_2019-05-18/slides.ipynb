{
 "cells": [
  {
   "cell_type": "markdown",
   "metadata": {
    "slideshow": {
     "slide_type": "slide"
    }
   },
   "source": [
    "## Pinkoi 資料導向產品開發經驗分享\n",
    "\n",
    "<br/>\n",
    "<br/>\n",
    "<br/>\n",
    "\n",
    "**廖尹禎**\n",
    "\n",
    "a.k.a **Dboy Liao**"
   ]
  },
  {
   "cell_type": "markdown",
   "metadata": {
    "slideshow": {
     "slide_type": "slide"
    }
   },
   "source": [
    "## About Me\n",
    "\n",
    "- Data Scientist @ [Pinkoi](https://www.pinkoi.com/)\n",
    "- 主要負責推薦系統\n",
    "- 一個 Python 碼農(但很想跳槽 Julia)\n",
    "- 業餘開發 [uTensor](https://github.com/uTensor) 的 [code generator](https://github.com/uTensor/utensor_cgen)"
   ]
  },
  {
   "cell_type": "markdown",
   "metadata": {
    "slideshow": {
     "slide_type": "slide"
    }
   },
   "source": [
    "## 資料導向產品開發?"
   ]
  },
  {
   "cell_type": "markdown",
   "metadata": {
    "slideshow": {
     "slide_type": "fragment"
    }
   },
   "source": [
    "1. `Collect Data`\n",
    "2. `ETL/EDA`\n",
    "3. `Statistics/Machine Learing/Deep Learning(?)`\n",
    "3. `Production`"
   ]
  },
  {
   "cell_type": "markdown",
   "metadata": {
    "slideshow": {
     "slide_type": "fragment"
    }
   },
   "source": [
    "It's better to start with an example."
   ]
  },
  {
   "cell_type": "markdown",
   "metadata": {
    "slideshow": {
     "slide_type": "slide"
    }
   },
   "source": [
    "## 一個深具啟發的例子"
   ]
  },
  {
   "cell_type": "markdown",
   "metadata": {
    "slideshow": {
     "slide_type": "fragment"
    }
   },
   "source": [
    "<center>\n",
    "    <img src='imgs/hypo.png' width='70%'/>\n",
    "</center>"
   ]
  },
  {
   "cell_type": "markdown",
   "metadata": {
    "slideshow": {
     "slide_type": "subslide"
    }
   },
   "source": [
    "`python generate_data.py -h`\n",
    "\n",
    "![gen-data](imgs/gen_data.png)"
   ]
  },
  {
   "cell_type": "code",
   "execution_count": 1,
   "metadata": {
    "ExecuteTime": {
     "end_time": "2019-05-17T06:57:39.842309Z",
     "start_time": "2019-05-17T06:57:39.525562Z"
    },
    "slideshow": {
     "slide_type": "skip"
    }
   },
   "outputs": [],
   "source": [
    "import pandas as pd"
   ]
  },
  {
   "cell_type": "code",
   "execution_count": 2,
   "metadata": {
    "ExecuteTime": {
     "end_time": "2019-05-17T06:57:42.788126Z",
     "start_time": "2019-05-17T06:57:42.497860Z"
    },
    "slideshow": {
     "slide_type": "subslide"
    }
   },
   "outputs": [
    {
     "data": {
      "text/html": [
       "<div>\n",
       "<style scoped>\n",
       "    .dataframe tbody tr th:only-of-type {\n",
       "        vertical-align: middle;\n",
       "    }\n",
       "\n",
       "    .dataframe tbody tr th {\n",
       "        vertical-align: top;\n",
       "    }\n",
       "\n",
       "    .dataframe thead th {\n",
       "        text-align: right;\n",
       "    }\n",
       "</style>\n",
       "<table border=\"1\" class=\"dataframe\">\n",
       "  <thead>\n",
       "    <tr style=\"text-align: right;\">\n",
       "      <th></th>\n",
       "      <th>parent</th>\n",
       "      <th>child</th>\n",
       "    </tr>\n",
       "  </thead>\n",
       "  <tbody>\n",
       "    <tr>\n",
       "      <th>0</th>\n",
       "      <td>ZbE2yu1Y</td>\n",
       "      <td>NaN</td>\n",
       "    </tr>\n",
       "    <tr>\n",
       "      <th>1</th>\n",
       "      <td>gCGxZU5T</td>\n",
       "      <td>YgTV3iZy</td>\n",
       "    </tr>\n",
       "    <tr>\n",
       "      <th>2</th>\n",
       "      <td>gCGxZU5T</td>\n",
       "      <td>jBECVH1w</td>\n",
       "    </tr>\n",
       "    <tr>\n",
       "      <th>3</th>\n",
       "      <td>5Mfc7OX9</td>\n",
       "      <td>Sv3axtli</td>\n",
       "    </tr>\n",
       "    <tr>\n",
       "      <th>4</th>\n",
       "      <td>5Mfc7OX9</td>\n",
       "      <td>ysk3fo0L</td>\n",
       "    </tr>\n",
       "  </tbody>\n",
       "</table>\n",
       "</div>"
      ],
      "text/plain": [
       "     parent     child\n",
       "0  ZbE2yu1Y       NaN\n",
       "1  gCGxZU5T  YgTV3iZy\n",
       "2  gCGxZU5T  jBECVH1w\n",
       "3  5Mfc7OX9  Sv3axtli\n",
       "4  5Mfc7OX9  ysk3fo0L"
      ]
     },
     "execution_count": 2,
     "metadata": {},
     "output_type": "execute_result"
    }
   ],
   "source": [
    "raw_data = pd.read_csv('family.csv')\n",
    "raw_data.head()"
   ]
  },
  {
   "cell_type": "markdown",
   "metadata": {
    "slideshow": {
     "slide_type": "subslide"
    }
   },
   "source": [
    "## Simple Logistic Regrssion\n",
    "\n",
    "<br/>\n",
    "<br/>\n",
    "\n",
    "$$\n",
    "Prob(HasGrandchild | HasChild) = \\frac{1}{1 + e^{-(\\beta_0 + \\beta_1 * D_{Has Child}})} \n",
    "$$\n",
    "\n",
    "$\\beta_1$ 是否顯著不為零呢?"
   ]
  },
  {
   "cell_type": "code",
   "execution_count": 3,
   "metadata": {
    "ExecuteTime": {
     "end_time": "2019-05-17T06:57:44.979294Z",
     "start_time": "2019-05-17T06:57:44.450682Z"
    },
    "slideshow": {
     "slide_type": "subslide"
    }
   },
   "outputs": [],
   "source": [
    "# 整理成適合 logistic regression 的樣子\n",
    "data_train = (\n",
    "    raw_data.join(\n",
    "        (\n",
    "            raw_data.rename(columns={\"parent\": \"child\", \"child\": \"grand_child\"})\n",
    "            .copy()\n",
    "            .set_index(\"child\")\n",
    "        ),\n",
    "        on=\"child\",\n",
    "        how=\"left\",\n",
    "    )[[\"child\", \"grand_child\"]]\n",
    "    .notna()\n",
    "    .applymap(int)\n",
    "    .rename(columns={\"child\": \"has_child\", \"grand_child\": \"has_grand_child\"})\n",
    ")"
   ]
  },
  {
   "cell_type": "code",
   "execution_count": 4,
   "metadata": {
    "ExecuteTime": {
     "end_time": "2019-05-17T06:57:45.534302Z",
     "start_time": "2019-05-17T06:57:45.524785Z"
    },
    "slideshow": {
     "slide_type": "subslide"
    }
   },
   "outputs": [
    {
     "data": {
      "text/html": [
       "<div>\n",
       "<style scoped>\n",
       "    .dataframe tbody tr th:only-of-type {\n",
       "        vertical-align: middle;\n",
       "    }\n",
       "\n",
       "    .dataframe tbody tr th {\n",
       "        vertical-align: top;\n",
       "    }\n",
       "\n",
       "    .dataframe thead th {\n",
       "        text-align: right;\n",
       "    }\n",
       "</style>\n",
       "<table border=\"1\" class=\"dataframe\">\n",
       "  <thead>\n",
       "    <tr style=\"text-align: right;\">\n",
       "      <th></th>\n",
       "      <th>has_child</th>\n",
       "      <th>has_grand_child</th>\n",
       "    </tr>\n",
       "  </thead>\n",
       "  <tbody>\n",
       "    <tr>\n",
       "      <th>0</th>\n",
       "      <td>0</td>\n",
       "      <td>0</td>\n",
       "    </tr>\n",
       "    <tr>\n",
       "      <th>1</th>\n",
       "      <td>1</td>\n",
       "      <td>1</td>\n",
       "    </tr>\n",
       "    <tr>\n",
       "      <th>1</th>\n",
       "      <td>1</td>\n",
       "      <td>1</td>\n",
       "    </tr>\n",
       "    <tr>\n",
       "      <th>2</th>\n",
       "      <td>1</td>\n",
       "      <td>1</td>\n",
       "    </tr>\n",
       "    <tr>\n",
       "      <th>3</th>\n",
       "      <td>1</td>\n",
       "      <td>0</td>\n",
       "    </tr>\n",
       "    <tr>\n",
       "      <th>4</th>\n",
       "      <td>1</td>\n",
       "      <td>1</td>\n",
       "    </tr>\n",
       "    <tr>\n",
       "      <th>5</th>\n",
       "      <td>1</td>\n",
       "      <td>1</td>\n",
       "    </tr>\n",
       "    <tr>\n",
       "      <th>5</th>\n",
       "      <td>1</td>\n",
       "      <td>1</td>\n",
       "    </tr>\n",
       "    <tr>\n",
       "      <th>6</th>\n",
       "      <td>1</td>\n",
       "      <td>0</td>\n",
       "    </tr>\n",
       "    <tr>\n",
       "      <th>7</th>\n",
       "      <td>1</td>\n",
       "      <td>1</td>\n",
       "    </tr>\n",
       "  </tbody>\n",
       "</table>\n",
       "</div>"
      ],
      "text/plain": [
       "   has_child  has_grand_child\n",
       "0          0                0\n",
       "1          1                1\n",
       "1          1                1\n",
       "2          1                1\n",
       "3          1                0\n",
       "4          1                1\n",
       "5          1                1\n",
       "5          1                1\n",
       "6          1                0\n",
       "7          1                1"
      ]
     },
     "execution_count": 4,
     "metadata": {},
     "output_type": "execute_result"
    }
   ],
   "source": [
    "data_train.head(10)"
   ]
  },
  {
   "cell_type": "code",
   "execution_count": 5,
   "metadata": {
    "ExecuteTime": {
     "end_time": "2019-05-17T06:57:47.528731Z",
     "start_time": "2019-05-17T06:57:46.809264Z"
    },
    "slideshow": {
     "slide_type": "subslide"
    }
   },
   "outputs": [],
   "source": [
    "from statsmodels.formula.api import logit"
   ]
  },
  {
   "cell_type": "code",
   "execution_count": 6,
   "metadata": {
    "ExecuteTime": {
     "end_time": "2019-05-17T06:57:48.281135Z",
     "start_time": "2019-05-17T06:57:47.787261Z"
    },
    "slideshow": {
     "slide_type": "subslide"
    }
   },
   "outputs": [
    {
     "name": "stdout",
     "output_type": "stream",
     "text": [
      "Optimization terminated successfully.\n",
      "         Current function value: 0.480177\n",
      "         Iterations: 25\n",
      "         Function evaluations: 26\n",
      "         Gradient evaluations: 26\n"
     ]
    }
   ],
   "source": [
    "model = logit(\"has_grand_child ~ has_child\", data_train).fit(method=\"bfgs\")"
   ]
  },
  {
   "cell_type": "code",
   "execution_count": 7,
   "metadata": {
    "ExecuteTime": {
     "end_time": "2019-05-17T06:57:50.754304Z",
     "start_time": "2019-05-17T06:57:50.242470Z"
    },
    "slideshow": {
     "slide_type": "fragment"
    }
   },
   "outputs": [
    {
     "name": "stdout",
     "output_type": "stream",
     "text": [
      "                          Results: Logit\n",
      "==================================================================\n",
      "Model:              Logit            Pseudo R-squared: 0.197      \n",
      "Dependent Variable: has_grand_child  AIC:              335040.4569\n",
      "Date:               2019-05-17 14:57 BIC:              335061.9818\n",
      "No. Observations:   348868           Log-Likelihood:   -1.6752e+05\n",
      "Df Model:           1                LL-Null:          -2.0859e+05\n",
      "Df Residuals:       348866           LLR p-value:      0.0000     \n",
      "Converged:          1.0000           Scale:            1.0000     \n",
      "-------------------------------------------------------------------\n",
      "              Coef.    Std.Err.     z     P>|z|    [0.025    0.975]\n",
      "-------------------------------------------------------------------\n",
      "Intercept    -14.4293    4.2993  -3.3562  0.0008  -22.8557  -6.0028\n",
      "has_child     14.0233    4.2993   3.2618  0.0011    5.5968  22.4498\n",
      "==================================================================\n",
      "\n"
     ]
    }
   ],
   "source": [
    "print(model.summary2())"
   ]
  },
  {
   "cell_type": "markdown",
   "metadata": {
    "slideshow": {
     "slide_type": "subslide"
    }
   },
   "source": [
    "<center>\n",
    "    <img alt=batman-balance src=imgs/batman_balance.jpg />\n",
    "</center>"
   ]
  },
  {
   "cell_type": "code",
   "execution_count": 8,
   "metadata": {
    "ExecuteTime": {
     "end_time": "2019-05-17T06:57:56.567425Z",
     "start_time": "2019-05-17T06:57:56.508397Z"
    },
    "slideshow": {
     "slide_type": "subslide"
    }
   },
   "outputs": [
    {
     "data": {
      "text/html": [
       "<div>\n",
       "<style scoped>\n",
       "    .dataframe tbody tr th:only-of-type {\n",
       "        vertical-align: middle;\n",
       "    }\n",
       "\n",
       "    .dataframe tbody tr th {\n",
       "        vertical-align: top;\n",
       "    }\n",
       "\n",
       "    .dataframe thead th {\n",
       "        text-align: right;\n",
       "    }\n",
       "</style>\n",
       "<table border=\"1\" class=\"dataframe\">\n",
       "  <thead>\n",
       "    <tr style=\"text-align: right;\">\n",
       "      <th></th>\n",
       "      <th>has_child</th>\n",
       "      <th>has_grand_child</th>\n",
       "    </tr>\n",
       "  </thead>\n",
       "  <tbody>\n",
       "    <tr>\n",
       "      <th>count</th>\n",
       "      <td>348868.000000</td>\n",
       "      <td>348868.000000</td>\n",
       "    </tr>\n",
       "    <tr>\n",
       "      <th>mean</th>\n",
       "      <td>0.713525</td>\n",
       "      <td>0.285326</td>\n",
       "    </tr>\n",
       "    <tr>\n",
       "      <th>std</th>\n",
       "      <td>0.452115</td>\n",
       "      <td>0.451570</td>\n",
       "    </tr>\n",
       "    <tr>\n",
       "      <th>min</th>\n",
       "      <td>0.000000</td>\n",
       "      <td>0.000000</td>\n",
       "    </tr>\n",
       "    <tr>\n",
       "      <th>25%</th>\n",
       "      <td>0.000000</td>\n",
       "      <td>0.000000</td>\n",
       "    </tr>\n",
       "    <tr>\n",
       "      <th>50%</th>\n",
       "      <td>1.000000</td>\n",
       "      <td>0.000000</td>\n",
       "    </tr>\n",
       "    <tr>\n",
       "      <th>75%</th>\n",
       "      <td>1.000000</td>\n",
       "      <td>1.000000</td>\n",
       "    </tr>\n",
       "    <tr>\n",
       "      <th>max</th>\n",
       "      <td>1.000000</td>\n",
       "      <td>1.000000</td>\n",
       "    </tr>\n",
       "  </tbody>\n",
       "</table>\n",
       "</div>"
      ],
      "text/plain": [
       "           has_child  has_grand_child\n",
       "count  348868.000000    348868.000000\n",
       "mean        0.713525         0.285326\n",
       "std         0.452115         0.451570\n",
       "min         0.000000         0.000000\n",
       "25%         0.000000         0.000000\n",
       "50%         1.000000         0.000000\n",
       "75%         1.000000         1.000000\n",
       "max         1.000000         1.000000"
      ]
     },
     "execution_count": 8,
     "metadata": {},
     "output_type": "execute_result"
    }
   ],
   "source": [
    "data_train.describe()"
   ]
  },
  {
   "cell_type": "code",
   "execution_count": 9,
   "metadata": {
    "ExecuteTime": {
     "end_time": "2019-05-17T06:57:59.662128Z",
     "start_time": "2019-05-17T06:57:59.633578Z"
    },
    "slideshow": {
     "slide_type": "subslide"
    }
   },
   "outputs": [],
   "source": [
    "y_pred = model.predict(data_train.has_child) > 0.5"
   ]
  },
  {
   "cell_type": "code",
   "execution_count": 10,
   "metadata": {
    "ExecuteTime": {
     "end_time": "2019-05-17T06:58:00.656151Z",
     "start_time": "2019-05-17T06:58:00.648541Z"
    },
    "slideshow": {
     "slide_type": "fragment"
    }
   },
   "outputs": [
    {
     "data": {
      "text/plain": [
       "False"
      ]
     },
     "execution_count": 10,
     "metadata": {},
     "output_type": "execute_result"
    }
   ],
   "source": [
    "y_pred.any()"
   ]
  },
  {
   "cell_type": "code",
   "execution_count": 11,
   "metadata": {
    "ExecuteTime": {
     "end_time": "2019-05-17T06:58:01.962744Z",
     "start_time": "2019-05-17T06:58:01.549045Z"
    },
    "slideshow": {
     "slide_type": "subslide"
    }
   },
   "outputs": [
    {
     "name": "stdout",
     "output_type": "stream",
     "text": [
      "              precision    recall  f1-score   support\n",
      "\n",
      "           0       0.71      1.00      0.83    249327\n",
      "           1       0.00      0.00      0.00     99541\n",
      "\n",
      "   micro avg       0.71      0.71      0.71    348868\n",
      "   macro avg       0.36      0.50      0.42    348868\n",
      "weighted avg       0.51      0.71      0.60    348868\n",
      "\n"
     ]
    },
    {
     "name": "stderr",
     "output_type": "stream",
     "text": [
      "/Users/dboyliao/blogs/talks/Taichung.py_2019-05-18/venv/lib/python3.6/site-packages/sklearn/metrics/classification.py:1143: UndefinedMetricWarning: Precision and F-score are ill-defined and being set to 0.0 in labels with no predicted samples.\n",
      "  'precision', 'predicted', average, warn_for)\n",
      "/Users/dboyliao/blogs/talks/Taichung.py_2019-05-18/venv/lib/python3.6/site-packages/sklearn/metrics/classification.py:1143: UndefinedMetricWarning: Precision and F-score are ill-defined and being set to 0.0 in labels with no predicted samples.\n",
      "  'precision', 'predicted', average, warn_for)\n",
      "/Users/dboyliao/blogs/talks/Taichung.py_2019-05-18/venv/lib/python3.6/site-packages/sklearn/metrics/classification.py:1143: UndefinedMetricWarning: Precision and F-score are ill-defined and being set to 0.0 in labels with no predicted samples.\n",
      "  'precision', 'predicted', average, warn_for)\n"
     ]
    }
   ],
   "source": [
    "from sklearn.metrics import classification_report\n",
    "\n",
    "print(classification_report(data_train.has_grand_child.values, y_pred.values.astype('int')))"
   ]
  },
  {
   "cell_type": "code",
   "execution_count": 12,
   "metadata": {
    "ExecuteTime": {
     "end_time": "2019-05-17T06:58:04.717323Z",
     "start_time": "2019-05-17T06:58:03.221897Z"
    },
    "slideshow": {
     "slide_type": "subslide"
    }
   },
   "outputs": [
    {
     "name": "stdout",
     "output_type": "stream",
     "text": [
      "Optimization terminated successfully.\n",
      "         Current function value: 0.528835\n",
      "         Iterations: 27\n",
      "         Function evaluations: 28\n",
      "         Gradient evaluations: 28\n"
     ]
    }
   ],
   "source": [
    "from analysis_balanced import model as model_balanced"
   ]
  },
  {
   "cell_type": "code",
   "execution_count": 13,
   "metadata": {
    "ExecuteTime": {
     "end_time": "2019-05-17T06:58:04.877166Z",
     "start_time": "2019-05-17T06:58:04.843933Z"
    },
    "slideshow": {
     "slide_type": "fragment"
    }
   },
   "outputs": [
    {
     "data": {
      "text/plain": [
       "True"
      ]
     },
     "execution_count": 13,
     "metadata": {},
     "output_type": "execute_result"
    }
   ],
   "source": [
    "y_pred_balanced = model_balanced.predict(data_train.has_child) > 0.5\n",
    "y_pred_balanced.any()"
   ]
  },
  {
   "cell_type": "code",
   "execution_count": 14,
   "metadata": {
    "ExecuteTime": {
     "end_time": "2019-05-17T06:58:06.696602Z",
     "start_time": "2019-05-17T06:58:06.419136Z"
    },
    "slideshow": {
     "slide_type": "subslide"
    }
   },
   "outputs": [
    {
     "name": "stdout",
     "output_type": "stream",
     "text": [
      "              precision    recall  f1-score   support\n",
      "\n",
      "           0       1.00      0.40      0.57    249327\n",
      "           1       0.40      1.00      0.57     99541\n",
      "\n",
      "   micro avg       0.57      0.57      0.57    348868\n",
      "   macro avg       0.70      0.70      0.57    348868\n",
      "weighted avg       0.83      0.57      0.57    348868\n",
      "\n"
     ]
    }
   ],
   "source": [
    "print(classification_report(data_train.has_grand_child.values, y_pred_balanced.values.astype('int')))"
   ]
  },
  {
   "cell_type": "code",
   "execution_count": 15,
   "metadata": {
    "ExecuteTime": {
     "end_time": "2019-05-17T06:58:08.135754Z",
     "start_time": "2019-05-17T06:58:07.950784Z"
    },
    "slideshow": {
     "slide_type": "subslide"
    }
   },
   "outputs": [
    {
     "name": "stdout",
     "output_type": "stream",
     "text": [
      "                          Results: Logit\n",
      "==================================================================\n",
      "Model:              Logit            Pseudo R-squared: 0.237      \n",
      "Dependent Variable: has_grand_child  AIC:              527415.3787\n",
      "Date:               2019-05-17 14:58 BIC:              527437.6181\n",
      "No. Observations:   498654           Log-Likelihood:   -2.6371e+05\n",
      "Df Model:           1                LL-Null:          -3.4564e+05\n",
      "Df Residuals:       498652           LLR p-value:      0.0000     \n",
      "Converged:          1.0000           Scale:            1.0000     \n",
      "-------------------------------------------------------------------\n",
      "              Coef.    Std.Err.     z     P>|z|    [0.025    0.975]\n",
      "-------------------------------------------------------------------\n",
      "Intercept    -16.1405   10.1155  -1.5956  0.1106  -35.9664   3.6855\n",
      "has_child     16.6527   10.1155   1.6463  0.0997   -3.1732  36.4786\n",
      "==================================================================\n",
      "\n"
     ]
    }
   ],
   "source": [
    "print(model_balanced.summary2())"
   ]
  },
  {
   "cell_type": "markdown",
   "metadata": {
    "slideshow": {
     "slide_type": "subslide"
    }
   },
   "source": [
    "<center>\n",
    "    <img src='imgs/hypo.png' width='70%'/>\n",
    "    <br/>\n",
    "    <br/>\n",
    "    <div style='font-size: 20px;'>\n",
    "        <strong>結論:</strong> 在 10% 的信心水準下，有小孩對有孫子有顯著性的影響\n",
    "    </div>\n",
    "</center>"
   ]
  },
  {
   "cell_type": "markdown",
   "metadata": {
    "slideshow": {
     "slide_type": "subslide"
    }
   },
   "source": [
    "<center>\n",
    "    <img alt=say-ds src=imgs/say_ds.jpg />\n",
    "<center/>"
   ]
  },
  {
   "cell_type": "markdown",
   "metadata": {
    "slideshow": {
     "slide_type": "slide"
    }
   },
   "source": [
    "<center>\n",
    "    <img src=imgs/data_science.png alt=data-science />\n",
    "</center>"
   ]
  },
  {
   "cell_type": "markdown",
   "metadata": {
    "slideshow": {
     "slide_type": "subslide"
    }
   },
   "source": [
    "<center>\n",
    "    <img alt='data-science-2' src=imgs/data_science2.png />\n",
    "</center>"
   ]
  },
  {
   "cell_type": "markdown",
   "metadata": {
    "ExecuteTime": {
     "end_time": "2019-05-15T15:25:20.718037Z",
     "start_time": "2019-05-15T15:25:20.712686Z"
    },
    "slideshow": {
     "slide_type": "subslide"
    }
   },
   "source": [
    "1. `Collect Data`\n",
    "2. `ETL`\n",
    "3. `Statistics/Machine Learing/Deep Learning(?)`\n",
    "4. `Production`\n",
    "\n",
    "<br/>\n",
    "`1+2+3+4 = Domain Knowledge`"
   ]
  },
  {
   "cell_type": "markdown",
   "metadata": {
    "slideshow": {
     "slide_type": "fragment"
    }
   },
   "source": [
    "<font size=32px>Science Is For <strong>Understanding</strong></font>"
   ]
  },
  {
   "cell_type": "markdown",
   "metadata": {
    "slideshow": {
     "slide_type": "subslide"
    }
   },
   "source": [
    "- [SHAP](https://github.com/slundberg/shap)\n",
    "\n",
    "<a href=https://github.com/slundberg/shap>\n",
    "    <img alt=shap-diagram src=https://raw.githubusercontent.com/slundberg/shap/master/docs/artwork/shap_diagram.png />\n",
    "</a>"
   ]
  },
  {
   "cell_type": "markdown",
   "metadata": {
    "slideshow": {
     "slide_type": "slide"
    }
   },
   "source": [
    "## Pinkoi Data Team Codebase Architecture\n",
    "\n",
    "<br/>\n",
    "<center>\n",
    "    <img alt=pinkoi-data-stack src=imgs/pinkoi-data-stack.png width=80% />\n",
    "</center>"
   ]
  },
  {
   "cell_type": "markdown",
   "metadata": {
    "slideshow": {
     "slide_type": "subslide"
    }
   },
   "source": [
    "```\n",
    "                         +------------------+       +------------------+\n",
    " +------+                |                  |       | JSON  ...        |\n",
    " | Hive |                |      Spark       +------>+           MySQL  |\n",
    " +------+                |                  |       |  ..  Pandas  ..  |\n",
    "     |                   +--------+---------+       | paquet   ...     |\n",
    "     |                            ^                 |        Hive(ORC) | \n",
    "     |        +--------+          |                 +------------------+\n",
    "     +------->+ PyHive |          +------+\n",
    "              +----+---+                 |           \n",
    "                   |                     |           \n",
    "                   |        +------------+------------+\n",
    "                   +------->+                         |\n",
    "+-------+                   |     SQLAlchemy ORM      |\n",
    "| MySQL +------------------>+ (Business Logics/Rules) |\n",
    "+-------+                   |                         |\n",
    "                            +-------------------------+\n",
    "```"
   ]
  },
  {
   "cell_type": "markdown",
   "metadata": {
    "slideshow": {
     "slide_type": "subslide"
    }
   },
   "source": [
    "<center>\n",
    "    <img alt=sqlalchemy-logo src=imgs/sqlalchemy_logo.jpg width=70% />\n",
    "</center>"
   ]
  },
  {
   "cell_type": "markdown",
   "metadata": {
    "slideshow": {
     "slide_type": "subslide"
    }
   },
   "source": [
    "<center>\n",
    "    <img alt=sqlalchemy-arch src=imgs/sqlalchemy_achitech.png />\n",
    "    <a href=http://www.aosabook.org/en/sqlalchemy.html >blog post</a>\n",
    "</center>"
   ]
  },
  {
   "cell_type": "markdown",
   "metadata": {
    "slideshow": {
     "slide_type": "subslide"
    }
   },
   "source": [
    "<center>\n",
    "    <img alt=spark-logo src=imgs/spark_logo.png width=70% />\n",
    "</center>"
   ]
  },
  {
   "cell_type": "markdown",
   "metadata": {
    "slideshow": {
     "slide_type": "slide"
    }
   },
   "source": [
    "## Case Study: Interaction Aggregation of Logging Data with Spark"
   ]
  },
  {
   "cell_type": "markdown",
   "metadata": {
    "slideshow": {
     "slide_type": "fragment"
    }
   },
   "source": [
    "- Definately not about work in Pinkoi\n",
    "- Any similarity is mere coincidence"
   ]
  },
  {
   "cell_type": "markdown",
   "metadata": {
    "slideshow": {
     "slide_type": "subslide"
    }
   },
   "source": [
    "### Raw Data\n",
    "\n",
    "```\n",
    "                     User Activity\n",
    "+------+-------------------+--------+---------------------+\n",
    "| User |      Designer     | Action |      Timestamp      |\n",
    "+======+===================+========+=====================+\n",
    "| dboy | pinkoi-experience |  view  | 2019-03-02 02:17:38 |\n",
    "+------+-------------------+--------+---------------------+\n",
    "|   :  |         :         |    :   |           :         |\n",
    "+------+-------------------+--------+---------------------+\n",
    "```"
   ]
  },
  {
   "cell_type": "markdown",
   "metadata": {
    "slideshow": {
     "slide_type": "subslide"
    }
   },
   "source": [
    "<center>\n",
    "<img src=imgs/collab_filter.jpg width=80% />\n",
    "<a href=https://medium.com/@cfpinela/recommender-systems-user-based-and-item-based-collaborative-filtering-5d5f375a127f>Original Blog</a>\n",
    "</center>"
   ]
  },
  {
   "cell_type": "markdown",
   "metadata": {
    "slideshow": {
     "slide_type": "subslide"
    }
   },
   "source": [
    "### Our Goal\n",
    "\n",
    "<br/>\n",
    "\n",
    "```\n",
    "+-----------+-----------+---------+---------+\n",
    "| designer1 | designer2 | metric1 | metric2 |\n",
    "+-----------+-----------+---------+---------+\n",
    "|     :     |     :     |    :    |    :    |\n",
    "+-----------+-----------+---------+---------+\n",
    "```\n",
    "\n",
    "- `metric`s can be various interations among `designer`s\n",
    "- learning the relationship among `designer`s then generate recommendation based on learned relations\n",
    "- [Association Rule Learning](https://en.wikipedia.org/wiki/Association_rule_learning)"
   ]
  },
  {
   "cell_type": "markdown",
   "metadata": {
    "ExecuteTime": {
     "end_time": "2019-05-17T06:06:10.104504Z",
     "start_time": "2019-05-17T06:06:10.095112Z"
    },
    "slideshow": {
     "slide_type": "subslide"
    }
   },
   "source": [
    "```\n",
    "+------+-------------------+--------+---------------------+\n",
    "| user |      designer     | action |      timestamp      |\n",
    "+------+-------------------+--------+---------------------+\n",
    "|   :  |         :         |    :   |          :          |\n",
    "+------+-------------------+--------+---------------------+\n",
    "                 |\n",
    "                 |\n",
    "                 |                +-----------+-----------+---------+---------+\n",
    "               +---+              | designer1 | designer2 | metric1 | metric2 |\n",
    "               | ? |------------->+-----------+-----------+---------+---------+\n",
    "               +---+              |     :     |     :     |    :    |    :    |\n",
    "                                  +-----------+-----------+---------+---------+\n",
    "```"
   ]
  },
  {
   "cell_type": "markdown",
   "metadata": {
    "slideshow": {
     "slide_type": "fragment"
    }
   },
   "source": [
    "- `SQL`?"
   ]
  },
  {
   "cell_type": "markdown",
   "metadata": {
    "slideshow": {
     "slide_type": "fragment"
    }
   },
   "source": [
    "- `NoSQL`?"
   ]
  },
  {
   "cell_type": "markdown",
   "metadata": {
    "slideshow": {
     "slide_type": "fragment"
    }
   },
   "source": [
    "- `import multiprocessing`"
   ]
  },
  {
   "cell_type": "markdown",
   "metadata": {
    "slideshow": {
     "slide_type": "subslide"
    }
   },
   "source": [
    "### My Plan\n",
    "\n",
    "<br/>\n",
    "\n",
    "```\n",
    "+------+-------------------+--------+---------------------+\n",
    "| user |      designer     | action |      timestamp      |\n",
    "+------+-------------------+--------+---------------------+\n",
    "|   :  |         :         |    :   |          :          |\n",
    "+------+-------------------+--------+---------------------+\n",
    "                  |\n",
    "                  | groupBy(user) + collect_list\n",
    "                  |\n",
    "                  +----> +------+--------------------------------+\n",
    "                         | dboy | [(designer1, timestamp1), ...] |\n",
    "                         +------+--------------------------------+\n",
    "```"
   ]
  },
  {
   "cell_type": "markdown",
   "metadata": {
    "slideshow": {
     "slide_type": "subslide"
    }
   },
   "source": [
    "```\n",
    "+------+--------------------------------+\n",
    "| dboy | [(designer1, timestamp1), ...] |\n",
    "+------+--------------------------------+\n",
    "       |\n",
    "       | C^n_2,\n",
    "       | and duration(timestamp1, timestamp2) <= K\n",
    "       |\n",
    "       |                 +------+-----------+------------+\n",
    "       +---------------> | dboy | designer1 | designer2  |\n",
    "                         +------+-----------+------------+\n",
    "                         | dboy | designer1 | designer2' |\n",
    "                         +------+-----------+------------+\n",
    "                         |   :  |     :     |      :     |\n",
    "                         +------+-----------+------------+\n",
    "```"
   ]
  },
  {
   "cell_type": "code",
   "execution_count": 16,
   "metadata": {
    "ExecuteTime": {
     "end_time": "2019-05-17T06:59:03.810563Z",
     "start_time": "2019-05-17T06:59:03.805283Z"
    },
    "slideshow": {
     "slide_type": "subslide"
    }
   },
   "outputs": [],
   "source": [
    "from itertools import combinations\n",
    "\n",
    "def as_related_designer_pairs(raw_list):\n",
    "    rel_pairs = []\n",
    "    for (designer1, stamp1), (designer2, stamp2) in combinations(raw_list, 2):\n",
    "        if abs((stamp1-stamp2).days) < 15:\n",
    "            rel_pairs.extend([(designer1, designer2), (designer2, designer1)])\n",
    "    return rel_pairs"
   ]
  },
  {
   "cell_type": "code",
   "execution_count": 17,
   "metadata": {
    "ExecuteTime": {
     "end_time": "2019-05-17T06:59:04.609236Z",
     "start_time": "2019-05-17T06:59:04.460645Z"
    },
    "slideshow": {
     "slide_type": "subslide"
    }
   },
   "outputs": [],
   "source": [
    "from pyspark.sql.functions import udf\n",
    "from pyspark.sql import types as T\n",
    "\n",
    "as_related_designer_pairs_udf = udf(\n",
    "    as_related_designer_pairs, \n",
    "    returnType = T.ArrayType(T.ArrayType(T.StringType()))\n",
    ")"
   ]
  },
  {
   "cell_type": "markdown",
   "metadata": {
    "slideshow": {
     "slide_type": "fragment"
    }
   },
   "source": [
    "- PySpark UDF: https://docs.databricks.com/spark/latest/spark-sql/udf-python.html"
   ]
  },
  {
   "cell_type": "markdown",
   "metadata": {
    "slideshow": {
     "slide_type": "subslide"
    }
   },
   "source": [
    "```\n",
    "+------+-----------+------------+\n",
    "| dboy | designer1 | designer2  |                                \n",
    "+------+-----------+------------+     \n",
    "| dboy | designer1 | designer2' |\n",
    "+------+-----------+------------+                                \n",
    "|   :  |     :     |      :     |                                \n",
    "+------+-----------+------------+\n",
    "       |\n",
    "       | groupBy(designer1, designer2) + count\n",
    "       |\n",
    "       |                     +-----------+-----------+-------+\n",
    "       |                     | designer1 | designer2 | count |\n",
    "       +------------------>  +-----------+-----------+-------+\n",
    "                             |     :     |     :     |   :   |\n",
    "                             +-----------+-----------+-------+\n",
    "```"
   ]
  },
  {
   "cell_type": "markdown",
   "metadata": {
    "slideshow": {
     "slide_type": "subslide"
    }
   },
   "source": [
    "```\n",
    "+-----------+-----------+-------+\n",
    "| designer1 | designer1 | count |\n",
    "+-----------+-----------+-------+\n",
    "|     :     |     :     |   :   |\n",
    "+-----------+-----------+-------+\n",
    "            |\n",
    "            |          +-----------+-----------+---------+---------+\n",
    "            |          | designer1 | designer2 | metric1 | metric2 |\n",
    "            +--------> +-----------+-----------+---------+---------+\n",
    "                       |     :     |     :     |    :    |    :    |\n",
    "                       +-----------+-----------+---------+---------+\n",
    "```"
   ]
  },
  {
   "cell_type": "markdown",
   "metadata": {
    "slideshow": {
     "slide_type": "fragment"
    }
   },
   "source": [
    "With these implicit feedback in hand, you can apply them to\n",
    "\n",
    "- Association rule learning\n",
    "- Matrix Factorization\n",
    "- Factorization Machine\n",
    "- You name it"
   ]
  },
  {
   "cell_type": "markdown",
   "metadata": {
    "slideshow": {
     "slide_type": "subslide"
    }
   },
   "source": [
    "<img src=imgs/dataset_hierarchy.png />"
   ]
  },
  {
   "cell_type": "markdown",
   "metadata": {
    "slideshow": {
     "slide_type": "slide"
    }
   },
   "source": [
    "## Q & A"
   ]
  }
 ],
 "metadata": {
  "celltoolbar": "Slideshow",
  "kernelspec": {
   "display_name": "demo",
   "language": "python",
   "name": "demo"
  },
  "language_info": {
   "codemirror_mode": {
    "name": "ipython",
    "version": 3
   },
   "file_extension": ".py",
   "mimetype": "text/x-python",
   "name": "python",
   "nbconvert_exporter": "python",
   "pygments_lexer": "ipython3",
   "version": "3.6.8"
  },
  "toc": {
   "nav_menu": {},
   "number_sections": true,
   "sideBar": true,
   "skip_h1_title": false,
   "toc_cell": false,
   "toc_position": {},
   "toc_section_display": "block",
   "toc_window_display": false
  }
 },
 "nbformat": 4,
 "nbformat_minor": 2
}
